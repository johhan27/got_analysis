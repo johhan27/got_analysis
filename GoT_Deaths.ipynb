{
  "nbformat": 4,
  "nbformat_minor": 0,
  "metadata": {
    "colab": {
      "name": "GoT Deaths.ipynb",
      "provenance": [],
      "collapsed_sections": [],
      "authorship_tag": "ABX9TyMlaZUOPBXHTZchuPUQPw3y",
      "include_colab_link": true
    },
    "kernelspec": {
      "name": "python3",
      "display_name": "Python 3"
    }
  },
  "cells": [
    {
      "cell_type": "markdown",
      "metadata": {
        "id": "view-in-github",
        "colab_type": "text"
      },
      "source": [
        "<a href=\"https://colab.research.google.com/github/johhan27/got_analysis/blob/main/GoT_Deaths.ipynb\" target=\"_parent\"><img src=\"https://colab.research.google.com/assets/colab-badge.svg\" alt=\"Open In Colab\"/></a>"
      ]
    },
    {
      "cell_type": "code",
      "metadata": {
        "id": "-G4RPIRu_UdP"
      },
      "source": [
        "#Dataset from Kaggle\n",
        "#https://www.kaggle.com/mylesoneill/game-of-thrones?select=character-deaths.csv"
      ],
      "execution_count": 75,
      "outputs": []
    },
    {
      "cell_type": "code",
      "metadata": {
        "id": "PePq6SKEmpYD"
      },
      "source": [
        "import pandas as pd\n",
        "import matplotlib.pyplot as plt\n",
        "import seaborn as sns \n",
        "import numpy as np\n"
      ],
      "execution_count": 76,
      "outputs": []
    },
    {
      "cell_type": "code",
      "metadata": {
        "id": "7zE5rfCsm81r"
      },
      "source": [
        "got_deaths = pd.read_csv('character-deaths.csv')"
      ],
      "execution_count": 77,
      "outputs": []
    },
    {
      "cell_type": "code",
      "metadata": {
        "colab": {
          "base_uri": "https://localhost:8080/",
          "height": 206
        },
        "id": "uZ8pFqEqnFYW",
        "outputId": "3d21b878-39d7-49cb-d3d9-6ab3567d4ca6"
      },
      "source": [
        "got_deaths.head()"
      ],
      "execution_count": 78,
      "outputs": [
        {
          "output_type": "execute_result",
          "data": {
            "text/html": [
              "<div>\n",
              "<style scoped>\n",
              "    .dataframe tbody tr th:only-of-type {\n",
              "        vertical-align: middle;\n",
              "    }\n",
              "\n",
              "    .dataframe tbody tr th {\n",
              "        vertical-align: top;\n",
              "    }\n",
              "\n",
              "    .dataframe thead th {\n",
              "        text-align: right;\n",
              "    }\n",
              "</style>\n",
              "<table border=\"1\" class=\"dataframe\">\n",
              "  <thead>\n",
              "    <tr style=\"text-align: right;\">\n",
              "      <th></th>\n",
              "      <th>Name</th>\n",
              "      <th>Allegiances</th>\n",
              "      <th>Death Year</th>\n",
              "      <th>Book of Death</th>\n",
              "      <th>Death Chapter</th>\n",
              "      <th>Book Intro Chapter</th>\n",
              "      <th>Gender</th>\n",
              "      <th>Nobility</th>\n",
              "      <th>GoT</th>\n",
              "      <th>CoK</th>\n",
              "      <th>SoS</th>\n",
              "      <th>FfC</th>\n",
              "      <th>DwD</th>\n",
              "    </tr>\n",
              "  </thead>\n",
              "  <tbody>\n",
              "    <tr>\n",
              "      <th>0</th>\n",
              "      <td>Addam Marbrand</td>\n",
              "      <td>Lannister</td>\n",
              "      <td>NaN</td>\n",
              "      <td>NaN</td>\n",
              "      <td>NaN</td>\n",
              "      <td>56.0</td>\n",
              "      <td>1</td>\n",
              "      <td>1</td>\n",
              "      <td>1</td>\n",
              "      <td>1</td>\n",
              "      <td>1</td>\n",
              "      <td>1</td>\n",
              "      <td>0</td>\n",
              "    </tr>\n",
              "    <tr>\n",
              "      <th>1</th>\n",
              "      <td>Aegon Frey (Jinglebell)</td>\n",
              "      <td>None</td>\n",
              "      <td>299.0</td>\n",
              "      <td>3.0</td>\n",
              "      <td>51.0</td>\n",
              "      <td>49.0</td>\n",
              "      <td>1</td>\n",
              "      <td>1</td>\n",
              "      <td>0</td>\n",
              "      <td>0</td>\n",
              "      <td>1</td>\n",
              "      <td>0</td>\n",
              "      <td>0</td>\n",
              "    </tr>\n",
              "    <tr>\n",
              "      <th>2</th>\n",
              "      <td>Aegon Targaryen</td>\n",
              "      <td>House Targaryen</td>\n",
              "      <td>NaN</td>\n",
              "      <td>NaN</td>\n",
              "      <td>NaN</td>\n",
              "      <td>5.0</td>\n",
              "      <td>1</td>\n",
              "      <td>1</td>\n",
              "      <td>0</td>\n",
              "      <td>0</td>\n",
              "      <td>0</td>\n",
              "      <td>0</td>\n",
              "      <td>1</td>\n",
              "    </tr>\n",
              "    <tr>\n",
              "      <th>3</th>\n",
              "      <td>Adrack Humble</td>\n",
              "      <td>House Greyjoy</td>\n",
              "      <td>300.0</td>\n",
              "      <td>5.0</td>\n",
              "      <td>20.0</td>\n",
              "      <td>20.0</td>\n",
              "      <td>1</td>\n",
              "      <td>1</td>\n",
              "      <td>0</td>\n",
              "      <td>0</td>\n",
              "      <td>0</td>\n",
              "      <td>0</td>\n",
              "      <td>1</td>\n",
              "    </tr>\n",
              "    <tr>\n",
              "      <th>4</th>\n",
              "      <td>Aemon Costayne</td>\n",
              "      <td>Lannister</td>\n",
              "      <td>NaN</td>\n",
              "      <td>NaN</td>\n",
              "      <td>NaN</td>\n",
              "      <td>NaN</td>\n",
              "      <td>1</td>\n",
              "      <td>1</td>\n",
              "      <td>0</td>\n",
              "      <td>0</td>\n",
              "      <td>1</td>\n",
              "      <td>0</td>\n",
              "      <td>0</td>\n",
              "    </tr>\n",
              "  </tbody>\n",
              "</table>\n",
              "</div>"
            ],
            "text/plain": [
              "                      Name      Allegiances  Death Year  ...  SoS  FfC  DwD\n",
              "0           Addam Marbrand        Lannister         NaN  ...    1    1    0\n",
              "1  Aegon Frey (Jinglebell)             None       299.0  ...    1    0    0\n",
              "2          Aegon Targaryen  House Targaryen         NaN  ...    0    0    1\n",
              "3            Adrack Humble    House Greyjoy       300.0  ...    0    0    1\n",
              "4           Aemon Costayne        Lannister         NaN  ...    1    0    0\n",
              "\n",
              "[5 rows x 13 columns]"
            ]
          },
          "metadata": {
            "tags": []
          },
          "execution_count": 78
        }
      ]
    },
    {
      "cell_type": "markdown",
      "metadata": {
        "id": "CAXEnEXw3dpY"
      },
      "source": [
        "Let's explore the data!"
      ]
    },
    {
      "cell_type": "code",
      "metadata": {
        "colab": {
          "base_uri": "https://localhost:8080/"
        },
        "id": "TR2bPqYBnHMi",
        "outputId": "36ec8a72-aa51-437e-f0bf-82b93b826ad9"
      },
      "source": [
        "got_deaths.info()"
      ],
      "execution_count": 79,
      "outputs": [
        {
          "output_type": "stream",
          "text": [
            "<class 'pandas.core.frame.DataFrame'>\n",
            "RangeIndex: 917 entries, 0 to 916\n",
            "Data columns (total 13 columns):\n",
            " #   Column              Non-Null Count  Dtype  \n",
            "---  ------              --------------  -----  \n",
            " 0   Name                917 non-null    object \n",
            " 1   Allegiances         917 non-null    object \n",
            " 2   Death Year          305 non-null    float64\n",
            " 3   Book of Death       307 non-null    float64\n",
            " 4   Death Chapter       299 non-null    float64\n",
            " 5   Book Intro Chapter  905 non-null    float64\n",
            " 6   Gender              917 non-null    int64  \n",
            " 7   Nobility            917 non-null    int64  \n",
            " 8   GoT                 917 non-null    int64  \n",
            " 9   CoK                 917 non-null    int64  \n",
            " 10  SoS                 917 non-null    int64  \n",
            " 11  FfC                 917 non-null    int64  \n",
            " 12  DwD                 917 non-null    int64  \n",
            "dtypes: float64(4), int64(7), object(2)\n",
            "memory usage: 93.3+ KB\n"
          ],
          "name": "stdout"
        }
      ]
    },
    {
      "cell_type": "markdown",
      "metadata": {
        "id": "S7ZZ7azZ4M5Z"
      },
      "source": [
        "What can we notice in the columns with null values?"
      ]
    },
    {
      "cell_type": "code",
      "metadata": {
        "colab": {
          "base_uri": "https://localhost:8080/",
          "height": 300
        },
        "id": "mu0SxRTkpld5",
        "outputId": "5f525319-0174-4303-cdec-1a5280d66c86"
      },
      "source": [
        "got_deaths.describe()"
      ],
      "execution_count": 80,
      "outputs": [
        {
          "output_type": "execute_result",
          "data": {
            "text/html": [
              "<div>\n",
              "<style scoped>\n",
              "    .dataframe tbody tr th:only-of-type {\n",
              "        vertical-align: middle;\n",
              "    }\n",
              "\n",
              "    .dataframe tbody tr th {\n",
              "        vertical-align: top;\n",
              "    }\n",
              "\n",
              "    .dataframe thead th {\n",
              "        text-align: right;\n",
              "    }\n",
              "</style>\n",
              "<table border=\"1\" class=\"dataframe\">\n",
              "  <thead>\n",
              "    <tr style=\"text-align: right;\">\n",
              "      <th></th>\n",
              "      <th>Death Year</th>\n",
              "      <th>Book of Death</th>\n",
              "      <th>Death Chapter</th>\n",
              "      <th>Book Intro Chapter</th>\n",
              "      <th>Gender</th>\n",
              "      <th>Nobility</th>\n",
              "      <th>GoT</th>\n",
              "      <th>CoK</th>\n",
              "      <th>SoS</th>\n",
              "      <th>FfC</th>\n",
              "      <th>DwD</th>\n",
              "    </tr>\n",
              "  </thead>\n",
              "  <tbody>\n",
              "    <tr>\n",
              "      <th>count</th>\n",
              "      <td>305.000000</td>\n",
              "      <td>307.000000</td>\n",
              "      <td>299.000000</td>\n",
              "      <td>905.000000</td>\n",
              "      <td>917.000000</td>\n",
              "      <td>917.000000</td>\n",
              "      <td>917.000000</td>\n",
              "      <td>917.000000</td>\n",
              "      <td>917.000000</td>\n",
              "      <td>917.000000</td>\n",
              "      <td>917.000000</td>\n",
              "    </tr>\n",
              "    <tr>\n",
              "      <th>mean</th>\n",
              "      <td>299.157377</td>\n",
              "      <td>2.928339</td>\n",
              "      <td>40.070234</td>\n",
              "      <td>28.861878</td>\n",
              "      <td>0.828790</td>\n",
              "      <td>0.468920</td>\n",
              "      <td>0.272628</td>\n",
              "      <td>0.353326</td>\n",
              "      <td>0.424209</td>\n",
              "      <td>0.272628</td>\n",
              "      <td>0.284624</td>\n",
              "    </tr>\n",
              "    <tr>\n",
              "      <th>std</th>\n",
              "      <td>0.703483</td>\n",
              "      <td>1.326482</td>\n",
              "      <td>20.470270</td>\n",
              "      <td>20.165788</td>\n",
              "      <td>0.376898</td>\n",
              "      <td>0.499305</td>\n",
              "      <td>0.445554</td>\n",
              "      <td>0.478264</td>\n",
              "      <td>0.494492</td>\n",
              "      <td>0.445554</td>\n",
              "      <td>0.451481</td>\n",
              "    </tr>\n",
              "    <tr>\n",
              "      <th>min</th>\n",
              "      <td>297.000000</td>\n",
              "      <td>1.000000</td>\n",
              "      <td>0.000000</td>\n",
              "      <td>0.000000</td>\n",
              "      <td>0.000000</td>\n",
              "      <td>0.000000</td>\n",
              "      <td>0.000000</td>\n",
              "      <td>0.000000</td>\n",
              "      <td>0.000000</td>\n",
              "      <td>0.000000</td>\n",
              "      <td>0.000000</td>\n",
              "    </tr>\n",
              "    <tr>\n",
              "      <th>25%</th>\n",
              "      <td>299.000000</td>\n",
              "      <td>2.000000</td>\n",
              "      <td>25.500000</td>\n",
              "      <td>11.000000</td>\n",
              "      <td>1.000000</td>\n",
              "      <td>0.000000</td>\n",
              "      <td>0.000000</td>\n",
              "      <td>0.000000</td>\n",
              "      <td>0.000000</td>\n",
              "      <td>0.000000</td>\n",
              "      <td>0.000000</td>\n",
              "    </tr>\n",
              "    <tr>\n",
              "      <th>50%</th>\n",
              "      <td>299.000000</td>\n",
              "      <td>3.000000</td>\n",
              "      <td>39.000000</td>\n",
              "      <td>27.000000</td>\n",
              "      <td>1.000000</td>\n",
              "      <td>0.000000</td>\n",
              "      <td>0.000000</td>\n",
              "      <td>0.000000</td>\n",
              "      <td>0.000000</td>\n",
              "      <td>0.000000</td>\n",
              "      <td>0.000000</td>\n",
              "    </tr>\n",
              "    <tr>\n",
              "      <th>75%</th>\n",
              "      <td>300.000000</td>\n",
              "      <td>4.000000</td>\n",
              "      <td>57.000000</td>\n",
              "      <td>43.000000</td>\n",
              "      <td>1.000000</td>\n",
              "      <td>1.000000</td>\n",
              "      <td>1.000000</td>\n",
              "      <td>1.000000</td>\n",
              "      <td>1.000000</td>\n",
              "      <td>1.000000</td>\n",
              "      <td>1.000000</td>\n",
              "    </tr>\n",
              "    <tr>\n",
              "      <th>max</th>\n",
              "      <td>300.000000</td>\n",
              "      <td>5.000000</td>\n",
              "      <td>80.000000</td>\n",
              "      <td>80.000000</td>\n",
              "      <td>1.000000</td>\n",
              "      <td>1.000000</td>\n",
              "      <td>1.000000</td>\n",
              "      <td>1.000000</td>\n",
              "      <td>1.000000</td>\n",
              "      <td>1.000000</td>\n",
              "      <td>1.000000</td>\n",
              "    </tr>\n",
              "  </tbody>\n",
              "</table>\n",
              "</div>"
            ],
            "text/plain": [
              "       Death Year  Book of Death  ...         FfC         DwD\n",
              "count  305.000000     307.000000  ...  917.000000  917.000000\n",
              "mean   299.157377       2.928339  ...    0.272628    0.284624\n",
              "std      0.703483       1.326482  ...    0.445554    0.451481\n",
              "min    297.000000       1.000000  ...    0.000000    0.000000\n",
              "25%    299.000000       2.000000  ...    0.000000    0.000000\n",
              "50%    299.000000       3.000000  ...    0.000000    0.000000\n",
              "75%    300.000000       4.000000  ...    1.000000    1.000000\n",
              "max    300.000000       5.000000  ...    1.000000    1.000000\n",
              "\n",
              "[8 rows x 11 columns]"
            ]
          },
          "metadata": {
            "tags": []
          },
          "execution_count": 80
        }
      ]
    },
    {
      "cell_type": "markdown",
      "metadata": {
        "id": "HX9hCJcy4dP6"
      },
      "source": [
        ":( We only have data until book 5"
      ]
    },
    {
      "cell_type": "code",
      "metadata": {
        "colab": {
          "base_uri": "https://localhost:8080/",
          "height": 174
        },
        "id": "qAEbsZbWnaTN",
        "outputId": "f37cf1a1-9d46-4ae8-945f-2daa5c0df296"
      },
      "source": [
        "got_deaths.describe(exclude='number')"
      ],
      "execution_count": 81,
      "outputs": [
        {
          "output_type": "execute_result",
          "data": {
            "text/html": [
              "<div>\n",
              "<style scoped>\n",
              "    .dataframe tbody tr th:only-of-type {\n",
              "        vertical-align: middle;\n",
              "    }\n",
              "\n",
              "    .dataframe tbody tr th {\n",
              "        vertical-align: top;\n",
              "    }\n",
              "\n",
              "    .dataframe thead th {\n",
              "        text-align: right;\n",
              "    }\n",
              "</style>\n",
              "<table border=\"1\" class=\"dataframe\">\n",
              "  <thead>\n",
              "    <tr style=\"text-align: right;\">\n",
              "      <th></th>\n",
              "      <th>Name</th>\n",
              "      <th>Allegiances</th>\n",
              "    </tr>\n",
              "  </thead>\n",
              "  <tbody>\n",
              "    <tr>\n",
              "      <th>count</th>\n",
              "      <td>917</td>\n",
              "      <td>917</td>\n",
              "    </tr>\n",
              "    <tr>\n",
              "      <th>unique</th>\n",
              "      <td>916</td>\n",
              "      <td>21</td>\n",
              "    </tr>\n",
              "    <tr>\n",
              "      <th>top</th>\n",
              "      <td>Myles</td>\n",
              "      <td>None</td>\n",
              "    </tr>\n",
              "    <tr>\n",
              "      <th>freq</th>\n",
              "      <td>2</td>\n",
              "      <td>253</td>\n",
              "    </tr>\n",
              "  </tbody>\n",
              "</table>\n",
              "</div>"
            ],
            "text/plain": [
              "         Name Allegiances\n",
              "count     917         917\n",
              "unique    916          21\n",
              "top     Myles        None\n",
              "freq        2         253"
            ]
          },
          "metadata": {
            "tags": []
          },
          "execution_count": 81
        }
      ]
    },
    {
      "cell_type": "markdown",
      "metadata": {
        "id": "oDBE6hL14rz_"
      },
      "source": [
        "21 Allegiances? Do you actually remember that many? We'll check this out in a second! "
      ]
    },
    {
      "cell_type": "markdown",
      "metadata": {
        "id": "qzNPWMU-45uR"
      },
      "source": [
        "Let's take a look at the NaN values, who are these people?"
      ]
    },
    {
      "cell_type": "code",
      "metadata": {
        "colab": {
          "base_uri": "https://localhost:8080/",
          "height": 424
        },
        "id": "nXJ7TAhioQ1P",
        "outputId": "ff943f14-a614-40d3-c877-50b0c381d4aa"
      },
      "source": [
        "got_deaths.loc[np.isnan(got_deaths['Death Year'])]"
      ],
      "execution_count": 82,
      "outputs": [
        {
          "output_type": "execute_result",
          "data": {
            "text/html": [
              "<div>\n",
              "<style scoped>\n",
              "    .dataframe tbody tr th:only-of-type {\n",
              "        vertical-align: middle;\n",
              "    }\n",
              "\n",
              "    .dataframe tbody tr th {\n",
              "        vertical-align: top;\n",
              "    }\n",
              "\n",
              "    .dataframe thead th {\n",
              "        text-align: right;\n",
              "    }\n",
              "</style>\n",
              "<table border=\"1\" class=\"dataframe\">\n",
              "  <thead>\n",
              "    <tr style=\"text-align: right;\">\n",
              "      <th></th>\n",
              "      <th>Name</th>\n",
              "      <th>Allegiances</th>\n",
              "      <th>Death Year</th>\n",
              "      <th>Book of Death</th>\n",
              "      <th>Death Chapter</th>\n",
              "      <th>Book Intro Chapter</th>\n",
              "      <th>Gender</th>\n",
              "      <th>Nobility</th>\n",
              "      <th>GoT</th>\n",
              "      <th>CoK</th>\n",
              "      <th>SoS</th>\n",
              "      <th>FfC</th>\n",
              "      <th>DwD</th>\n",
              "    </tr>\n",
              "  </thead>\n",
              "  <tbody>\n",
              "    <tr>\n",
              "      <th>0</th>\n",
              "      <td>Addam Marbrand</td>\n",
              "      <td>Lannister</td>\n",
              "      <td>NaN</td>\n",
              "      <td>NaN</td>\n",
              "      <td>NaN</td>\n",
              "      <td>56.0</td>\n",
              "      <td>1</td>\n",
              "      <td>1</td>\n",
              "      <td>1</td>\n",
              "      <td>1</td>\n",
              "      <td>1</td>\n",
              "      <td>1</td>\n",
              "      <td>0</td>\n",
              "    </tr>\n",
              "    <tr>\n",
              "      <th>2</th>\n",
              "      <td>Aegon Targaryen</td>\n",
              "      <td>House Targaryen</td>\n",
              "      <td>NaN</td>\n",
              "      <td>NaN</td>\n",
              "      <td>NaN</td>\n",
              "      <td>5.0</td>\n",
              "      <td>1</td>\n",
              "      <td>1</td>\n",
              "      <td>0</td>\n",
              "      <td>0</td>\n",
              "      <td>0</td>\n",
              "      <td>0</td>\n",
              "      <td>1</td>\n",
              "    </tr>\n",
              "    <tr>\n",
              "      <th>4</th>\n",
              "      <td>Aemon Costayne</td>\n",
              "      <td>Lannister</td>\n",
              "      <td>NaN</td>\n",
              "      <td>NaN</td>\n",
              "      <td>NaN</td>\n",
              "      <td>NaN</td>\n",
              "      <td>1</td>\n",
              "      <td>1</td>\n",
              "      <td>0</td>\n",
              "      <td>0</td>\n",
              "      <td>1</td>\n",
              "      <td>0</td>\n",
              "      <td>0</td>\n",
              "    </tr>\n",
              "    <tr>\n",
              "      <th>5</th>\n",
              "      <td>Aemon Estermont</td>\n",
              "      <td>Baratheon</td>\n",
              "      <td>NaN</td>\n",
              "      <td>NaN</td>\n",
              "      <td>NaN</td>\n",
              "      <td>NaN</td>\n",
              "      <td>1</td>\n",
              "      <td>1</td>\n",
              "      <td>0</td>\n",
              "      <td>1</td>\n",
              "      <td>1</td>\n",
              "      <td>0</td>\n",
              "      <td>0</td>\n",
              "    </tr>\n",
              "    <tr>\n",
              "      <th>8</th>\n",
              "      <td>Aeron Greyjoy</td>\n",
              "      <td>House Greyjoy</td>\n",
              "      <td>NaN</td>\n",
              "      <td>NaN</td>\n",
              "      <td>NaN</td>\n",
              "      <td>11.0</td>\n",
              "      <td>1</td>\n",
              "      <td>1</td>\n",
              "      <td>0</td>\n",
              "      <td>1</td>\n",
              "      <td>0</td>\n",
              "      <td>1</td>\n",
              "      <td>0</td>\n",
              "    </tr>\n",
              "    <tr>\n",
              "      <th>...</th>\n",
              "      <td>...</td>\n",
              "      <td>...</td>\n",
              "      <td>...</td>\n",
              "      <td>...</td>\n",
              "      <td>...</td>\n",
              "      <td>...</td>\n",
              "      <td>...</td>\n",
              "      <td>...</td>\n",
              "      <td>...</td>\n",
              "      <td>...</td>\n",
              "      <td>...</td>\n",
              "      <td>...</td>\n",
              "      <td>...</td>\n",
              "    </tr>\n",
              "    <tr>\n",
              "      <th>906</th>\n",
              "      <td>Yohn Farwynd</td>\n",
              "      <td>Greyjoy</td>\n",
              "      <td>NaN</td>\n",
              "      <td>NaN</td>\n",
              "      <td>NaN</td>\n",
              "      <td>19.0</td>\n",
              "      <td>1</td>\n",
              "      <td>1</td>\n",
              "      <td>0</td>\n",
              "      <td>0</td>\n",
              "      <td>0</td>\n",
              "      <td>1</td>\n",
              "      <td>0</td>\n",
              "    </tr>\n",
              "    <tr>\n",
              "      <th>907</th>\n",
              "      <td>Yohn Royce</td>\n",
              "      <td>Arryn</td>\n",
              "      <td>NaN</td>\n",
              "      <td>NaN</td>\n",
              "      <td>NaN</td>\n",
              "      <td>29.0</td>\n",
              "      <td>1</td>\n",
              "      <td>1</td>\n",
              "      <td>1</td>\n",
              "      <td>0</td>\n",
              "      <td>0</td>\n",
              "      <td>1</td>\n",
              "      <td>0</td>\n",
              "    </tr>\n",
              "    <tr>\n",
              "      <th>910</th>\n",
              "      <td>Ysilla</td>\n",
              "      <td>House Targaryen</td>\n",
              "      <td>NaN</td>\n",
              "      <td>NaN</td>\n",
              "      <td>NaN</td>\n",
              "      <td>8.0</td>\n",
              "      <td>1</td>\n",
              "      <td>0</td>\n",
              "      <td>0</td>\n",
              "      <td>0</td>\n",
              "      <td>0</td>\n",
              "      <td>0</td>\n",
              "      <td>1</td>\n",
              "    </tr>\n",
              "    <tr>\n",
              "      <th>911</th>\n",
              "      <td>Zei</td>\n",
              "      <td>Stark</td>\n",
              "      <td>NaN</td>\n",
              "      <td>NaN</td>\n",
              "      <td>NaN</td>\n",
              "      <td>64.0</td>\n",
              "      <td>0</td>\n",
              "      <td>0</td>\n",
              "      <td>0</td>\n",
              "      <td>0</td>\n",
              "      <td>1</td>\n",
              "      <td>0</td>\n",
              "      <td>0</td>\n",
              "    </tr>\n",
              "    <tr>\n",
              "      <th>912</th>\n",
              "      <td>Zollo</td>\n",
              "      <td>None</td>\n",
              "      <td>NaN</td>\n",
              "      <td>NaN</td>\n",
              "      <td>NaN</td>\n",
              "      <td>21.0</td>\n",
              "      <td>1</td>\n",
              "      <td>0</td>\n",
              "      <td>0</td>\n",
              "      <td>0</td>\n",
              "      <td>1</td>\n",
              "      <td>0</td>\n",
              "      <td>0</td>\n",
              "    </tr>\n",
              "  </tbody>\n",
              "</table>\n",
              "<p>612 rows × 13 columns</p>\n",
              "</div>"
            ],
            "text/plain": [
              "                Name      Allegiances  Death Year  ...  SoS  FfC  DwD\n",
              "0     Addam Marbrand        Lannister         NaN  ...    1    1    0\n",
              "2    Aegon Targaryen  House Targaryen         NaN  ...    0    0    1\n",
              "4     Aemon Costayne        Lannister         NaN  ...    1    0    0\n",
              "5    Aemon Estermont        Baratheon         NaN  ...    1    0    0\n",
              "8      Aeron Greyjoy    House Greyjoy         NaN  ...    0    1    0\n",
              "..               ...              ...         ...  ...  ...  ...  ...\n",
              "906     Yohn Farwynd          Greyjoy         NaN  ...    0    1    0\n",
              "907       Yohn Royce            Arryn         NaN  ...    0    1    0\n",
              "910           Ysilla  House Targaryen         NaN  ...    0    0    1\n",
              "911              Zei            Stark         NaN  ...    1    0    0\n",
              "912            Zollo             None         NaN  ...    1    0    0\n",
              "\n",
              "[612 rows x 13 columns]"
            ]
          },
          "metadata": {
            "tags": []
          },
          "execution_count": 82
        }
      ]
    },
    {
      "cell_type": "markdown",
      "metadata": {
        "id": "opiG9TMu5Gxw"
      },
      "source": [
        "Ok... I don't remember these people so let's go with Arya and try to find a pattern "
      ]
    },
    {
      "cell_type": "code",
      "metadata": {
        "colab": {
          "base_uri": "https://localhost:8080/",
          "height": 81
        },
        "id": "9c1u8enqo6U9",
        "outputId": "bd458ba5-dca4-475b-d285-276715aef566"
      },
      "source": [
        "got_deaths.loc[got_deaths['Name'] == 'Arya Stark']"
      ],
      "execution_count": 83,
      "outputs": [
        {
          "output_type": "execute_result",
          "data": {
            "text/html": [
              "<div>\n",
              "<style scoped>\n",
              "    .dataframe tbody tr th:only-of-type {\n",
              "        vertical-align: middle;\n",
              "    }\n",
              "\n",
              "    .dataframe tbody tr th {\n",
              "        vertical-align: top;\n",
              "    }\n",
              "\n",
              "    .dataframe thead th {\n",
              "        text-align: right;\n",
              "    }\n",
              "</style>\n",
              "<table border=\"1\" class=\"dataframe\">\n",
              "  <thead>\n",
              "    <tr style=\"text-align: right;\">\n",
              "      <th></th>\n",
              "      <th>Name</th>\n",
              "      <th>Allegiances</th>\n",
              "      <th>Death Year</th>\n",
              "      <th>Book of Death</th>\n",
              "      <th>Death Chapter</th>\n",
              "      <th>Book Intro Chapter</th>\n",
              "      <th>Gender</th>\n",
              "      <th>Nobility</th>\n",
              "      <th>GoT</th>\n",
              "      <th>CoK</th>\n",
              "      <th>SoS</th>\n",
              "      <th>FfC</th>\n",
              "      <th>DwD</th>\n",
              "    </tr>\n",
              "  </thead>\n",
              "  <tbody>\n",
              "    <tr>\n",
              "      <th>55</th>\n",
              "      <td>Arya Stark</td>\n",
              "      <td>Stark</td>\n",
              "      <td>NaN</td>\n",
              "      <td>NaN</td>\n",
              "      <td>NaN</td>\n",
              "      <td>2.0</td>\n",
              "      <td>0</td>\n",
              "      <td>1</td>\n",
              "      <td>1</td>\n",
              "      <td>1</td>\n",
              "      <td>1</td>\n",
              "      <td>1</td>\n",
              "      <td>1</td>\n",
              "    </tr>\n",
              "  </tbody>\n",
              "</table>\n",
              "</div>"
            ],
            "text/plain": [
              "          Name Allegiances  Death Year  Book of Death  ...  CoK  SoS  FfC  DwD\n",
              "55  Arya Stark       Stark         NaN            NaN  ...    1    1    1    1\n",
              "\n",
              "[1 rows x 13 columns]"
            ]
          },
          "metadata": {
            "tags": []
          },
          "execution_count": 83
        }
      ]
    },
    {
      "cell_type": "markdown",
      "metadata": {
        "id": "cig_5Ajg5obc"
      },
      "source": [
        "Cool! our NaN are actually useful but we could remove those characters that we never introduced to us."
      ]
    },
    {
      "cell_type": "code",
      "metadata": {
        "id": "zoUSAwPKrAJh"
      },
      "source": [
        "got_deaths = got_deaths[got_deaths['Book Intro Chapter'].notna()]"
      ],
      "execution_count": 84,
      "outputs": []
    },
    {
      "cell_type": "markdown",
      "metadata": {
        "id": "E47HRyx56BA-"
      },
      "source": [
        "Here we go again! Let's take a look!"
      ]
    },
    {
      "cell_type": "code",
      "metadata": {
        "colab": {
          "base_uri": "https://localhost:8080/"
        },
        "id": "_s77iPtmrfW9",
        "outputId": "72e2339c-4ca0-4eea-9d03-f4228a8f93c8"
      },
      "source": [
        "got_deaths.info()"
      ],
      "execution_count": 85,
      "outputs": [
        {
          "output_type": "stream",
          "text": [
            "<class 'pandas.core.frame.DataFrame'>\n",
            "Int64Index: 905 entries, 0 to 916\n",
            "Data columns (total 13 columns):\n",
            " #   Column              Non-Null Count  Dtype  \n",
            "---  ------              --------------  -----  \n",
            " 0   Name                905 non-null    object \n",
            " 1   Allegiances         905 non-null    object \n",
            " 2   Death Year          300 non-null    float64\n",
            " 3   Book of Death       302 non-null    float64\n",
            " 4   Death Chapter       296 non-null    float64\n",
            " 5   Book Intro Chapter  905 non-null    float64\n",
            " 6   Gender              905 non-null    int64  \n",
            " 7   Nobility            905 non-null    int64  \n",
            " 8   GoT                 905 non-null    int64  \n",
            " 9   CoK                 905 non-null    int64  \n",
            " 10  SoS                 905 non-null    int64  \n",
            " 11  FfC                 905 non-null    int64  \n",
            " 12  DwD                 905 non-null    int64  \n",
            "dtypes: float64(4), int64(7), object(2)\n",
            "memory usage: 99.0+ KB\n"
          ],
          "name": "stdout"
        }
      ]
    },
    {
      "cell_type": "markdown",
      "metadata": {
        "id": "CyQIxKG36RIp"
      },
      "source": [
        "Among the columns with null values, \"Book of Death\" has more datapoints; therefore, we'll use it as a cornerstone to create a new column \"Died\" \n",
        ".\n",
        ".\n",
        ".\n",
        "Because that's what we love about GoT"
      ]
    },
    {
      "cell_type": "code",
      "metadata": {
        "id": "jLuxn2fsrhKQ"
      },
      "source": [
        "got_deaths['Died'] = np.where(got_deaths['Book of Death'].notna(), 1, 0)"
      ],
      "execution_count": 86,
      "outputs": []
    },
    {
      "cell_type": "code",
      "metadata": {
        "colab": {
          "base_uri": "https://localhost:8080/",
          "height": 206
        },
        "id": "fjV41xuxtPWN",
        "outputId": "7c97c7b8-2d89-4f84-b3a2-7df400a75414"
      },
      "source": [
        "got_deaths.head()"
      ],
      "execution_count": 87,
      "outputs": [
        {
          "output_type": "execute_result",
          "data": {
            "text/html": [
              "<div>\n",
              "<style scoped>\n",
              "    .dataframe tbody tr th:only-of-type {\n",
              "        vertical-align: middle;\n",
              "    }\n",
              "\n",
              "    .dataframe tbody tr th {\n",
              "        vertical-align: top;\n",
              "    }\n",
              "\n",
              "    .dataframe thead th {\n",
              "        text-align: right;\n",
              "    }\n",
              "</style>\n",
              "<table border=\"1\" class=\"dataframe\">\n",
              "  <thead>\n",
              "    <tr style=\"text-align: right;\">\n",
              "      <th></th>\n",
              "      <th>Name</th>\n",
              "      <th>Allegiances</th>\n",
              "      <th>Death Year</th>\n",
              "      <th>Book of Death</th>\n",
              "      <th>Death Chapter</th>\n",
              "      <th>Book Intro Chapter</th>\n",
              "      <th>Gender</th>\n",
              "      <th>Nobility</th>\n",
              "      <th>GoT</th>\n",
              "      <th>CoK</th>\n",
              "      <th>SoS</th>\n",
              "      <th>FfC</th>\n",
              "      <th>DwD</th>\n",
              "      <th>Died</th>\n",
              "    </tr>\n",
              "  </thead>\n",
              "  <tbody>\n",
              "    <tr>\n",
              "      <th>0</th>\n",
              "      <td>Addam Marbrand</td>\n",
              "      <td>Lannister</td>\n",
              "      <td>NaN</td>\n",
              "      <td>NaN</td>\n",
              "      <td>NaN</td>\n",
              "      <td>56.0</td>\n",
              "      <td>1</td>\n",
              "      <td>1</td>\n",
              "      <td>1</td>\n",
              "      <td>1</td>\n",
              "      <td>1</td>\n",
              "      <td>1</td>\n",
              "      <td>0</td>\n",
              "      <td>0</td>\n",
              "    </tr>\n",
              "    <tr>\n",
              "      <th>1</th>\n",
              "      <td>Aegon Frey (Jinglebell)</td>\n",
              "      <td>None</td>\n",
              "      <td>299.0</td>\n",
              "      <td>3.0</td>\n",
              "      <td>51.0</td>\n",
              "      <td>49.0</td>\n",
              "      <td>1</td>\n",
              "      <td>1</td>\n",
              "      <td>0</td>\n",
              "      <td>0</td>\n",
              "      <td>1</td>\n",
              "      <td>0</td>\n",
              "      <td>0</td>\n",
              "      <td>1</td>\n",
              "    </tr>\n",
              "    <tr>\n",
              "      <th>2</th>\n",
              "      <td>Aegon Targaryen</td>\n",
              "      <td>House Targaryen</td>\n",
              "      <td>NaN</td>\n",
              "      <td>NaN</td>\n",
              "      <td>NaN</td>\n",
              "      <td>5.0</td>\n",
              "      <td>1</td>\n",
              "      <td>1</td>\n",
              "      <td>0</td>\n",
              "      <td>0</td>\n",
              "      <td>0</td>\n",
              "      <td>0</td>\n",
              "      <td>1</td>\n",
              "      <td>0</td>\n",
              "    </tr>\n",
              "    <tr>\n",
              "      <th>3</th>\n",
              "      <td>Adrack Humble</td>\n",
              "      <td>House Greyjoy</td>\n",
              "      <td>300.0</td>\n",
              "      <td>5.0</td>\n",
              "      <td>20.0</td>\n",
              "      <td>20.0</td>\n",
              "      <td>1</td>\n",
              "      <td>1</td>\n",
              "      <td>0</td>\n",
              "      <td>0</td>\n",
              "      <td>0</td>\n",
              "      <td>0</td>\n",
              "      <td>1</td>\n",
              "      <td>1</td>\n",
              "    </tr>\n",
              "    <tr>\n",
              "      <th>6</th>\n",
              "      <td>Aemon Targaryen (son of Maekar I)</td>\n",
              "      <td>Night's Watch</td>\n",
              "      <td>300.0</td>\n",
              "      <td>4.0</td>\n",
              "      <td>35.0</td>\n",
              "      <td>21.0</td>\n",
              "      <td>1</td>\n",
              "      <td>1</td>\n",
              "      <td>1</td>\n",
              "      <td>0</td>\n",
              "      <td>1</td>\n",
              "      <td>1</td>\n",
              "      <td>0</td>\n",
              "      <td>1</td>\n",
              "    </tr>\n",
              "  </tbody>\n",
              "</table>\n",
              "</div>"
            ],
            "text/plain": [
              "                                Name      Allegiances  ...  DwD  Died\n",
              "0                     Addam Marbrand        Lannister  ...    0     0\n",
              "1            Aegon Frey (Jinglebell)             None  ...    0     1\n",
              "2                    Aegon Targaryen  House Targaryen  ...    1     0\n",
              "3                      Adrack Humble    House Greyjoy  ...    1     1\n",
              "6  Aemon Targaryen (son of Maekar I)    Night's Watch  ...    0     1\n",
              "\n",
              "[5 rows x 14 columns]"
            ]
          },
          "metadata": {
            "tags": []
          },
          "execution_count": 87
        }
      ]
    },
    {
      "cell_type": "code",
      "metadata": {
        "colab": {
          "base_uri": "https://localhost:8080/"
        },
        "id": "34bWvZ2i65eq",
        "outputId": "1b744cb7-b55c-4cd3-a86c-b6827ef983ce"
      },
      "source": [
        "crosstab_nobility = pd.crosstab(got_deaths['Nobility'], got_deaths['Died'], margins=True)\n",
        "print(crosstab_nobility)"
      ],
      "execution_count": 88,
      "outputs": [
        {
          "output_type": "stream",
          "text": [
            "Died        0    1  All\n",
            "Nobility               \n",
            "0         295  186  481\n",
            "1         308  116  424\n",
            "All       603  302  905\n"
          ],
          "name": "stdout"
        }
      ]
    },
    {
      "cell_type": "markdown",
      "metadata": {
        "id": "tcgj7EOKD7C4"
      },
      "source": [
        "Quick break! the probability of dying overall is..."
      ]
    },
    {
      "cell_type": "code",
      "metadata": {
        "colab": {
          "base_uri": "https://localhost:8080/"
        },
        "id": "nnmciAxjD6Gm",
        "outputId": "3e08ab6e-541d-4de9-ba4e-c5946bb95749"
      },
      "source": [
        "302/905\n",
        "\n",
        "#lots of blood"
      ],
      "execution_count": 89,
      "outputs": [
        {
          "output_type": "execute_result",
          "data": {
            "text/plain": [
              "0.33370165745856356"
            ]
          },
          "metadata": {
            "tags": []
          },
          "execution_count": 89
        }
      ]
    },
    {
      "cell_type": "code",
      "metadata": {
        "colab": {
          "base_uri": "https://localhost:8080/"
        },
        "id": "vNlh0S688DhS",
        "outputId": "53358430-2898-4c12-82e2-1c9d4346ab35"
      },
      "source": [
        "crosstab_nobility_norm = pd.crosstab(got_deaths['Nobility'], got_deaths['Died'], normalize='index')\n",
        "print(crosstab_nobility_norm)"
      ],
      "execution_count": 90,
      "outputs": [
        {
          "output_type": "stream",
          "text": [
            "Died             0         1\n",
            "Nobility                    \n",
            "0         0.613306  0.386694\n",
            "1         0.726415  0.273585\n"
          ],
          "name": "stdout"
        }
      ]
    },
    {
      "cell_type": "code",
      "metadata": {
        "colab": {
          "base_uri": "https://localhost:8080/",
          "height": 622
        },
        "id": "sRAB0DZ27bzb",
        "outputId": "437207de-257f-4243-e5b8-36c7f15641b0"
      },
      "source": [
        "fig, ax =plt.subplots(1, figsize=[20,10])\n",
        "sns.barplot(x='Nobility', y='Died', data=got_deaths)"
      ],
      "execution_count": 91,
      "outputs": [
        {
          "output_type": "execute_result",
          "data": {
            "text/plain": [
              "<matplotlib.axes._subplots.AxesSubplot at 0x7f1f9b9ec4d0>"
            ]
          },
          "metadata": {
            "tags": []
          },
          "execution_count": 91
        },
        {
          "output_type": "display_data",
          "data": {
            "image/png": "[encoded data removed]",
            "text/plain": [
              "<Figure size 1440x720 with 1 Axes>"
            ]
          },
          "metadata": {
            "tags": [],
            "needs_background": "light"
          }
        }
      ]
    },
    {
      "cell_type": "code",
      "metadata": {
        "colab": {
          "base_uri": "https://localhost:8080/"
        },
        "id": "U8lQMoUKtX_9",
        "outputId": "c38565d3-6ce7-4523-8df5-d61d6efa9130"
      },
      "source": [
        "crosstab_gender = pd.crosstab(got_deaths['Gender'], got_deaths['Died'], margins=True)\n",
        "print(crosstab_gender)"
      ],
      "execution_count": 92,
      "outputs": [
        {
          "output_type": "stream",
          "text": [
            "Died      0    1  All\n",
            "Gender               \n",
            "0       121   36  157\n",
            "1       482  266  748\n",
            "All     603  302  905\n"
          ],
          "name": "stdout"
        }
      ]
    },
    {
      "cell_type": "code",
      "metadata": {
        "colab": {
          "base_uri": "https://localhost:8080/"
        },
        "id": "bGosNDmy9UN4",
        "outputId": "fbb87e18-88eb-47a8-dea5-5800a84630ec"
      },
      "source": [
        "crosstab_gender_norm = pd.crosstab(got_deaths['Gender'], got_deaths['Died'], normalize='index')\n",
        "print(crosstab_gender_norm)"
      ],
      "execution_count": 93,
      "outputs": [
        {
          "output_type": "stream",
          "text": [
            "Died           0         1\n",
            "Gender                    \n",
            "0       0.770701  0.229299\n",
            "1       0.644385  0.355615\n"
          ],
          "name": "stdout"
        }
      ]
    },
    {
      "cell_type": "code",
      "metadata": {
        "colab": {
          "base_uri": "https://localhost:8080/",
          "height": 622
        },
        "id": "s8eBpP7quDuU",
        "outputId": "613bbfea-f398-4115-fad5-6c322a976eba"
      },
      "source": [
        "fig, ax =plt.subplots(1, figsize=[20,10])\n",
        "sns.barplot(x='Gender', y='Died', data=got_deaths)"
      ],
      "execution_count": 94,
      "outputs": [
        {
          "output_type": "execute_result",
          "data": {
            "text/plain": [
              "<matplotlib.axes._subplots.AxesSubplot at 0x7f1f9b94d150>"
            ]
          },
          "metadata": {
            "tags": []
          },
          "execution_count": 94
        },
        {
          "output_type": "display_data",
          "data": {
            "image/png": "[encoded data removed]",
            "text/plain": [
              "<Figure size 1440x720 with 1 Axes>"
            ]
          },
          "metadata": {
            "tags": [],
            "needs_background": "light"
          }
        }
      ]
    },
    {
      "cell_type": "code",
      "metadata": {
        "colab": {
          "base_uri": "https://localhost:8080/",
          "height": 622
        },
        "id": "uW45eDgav4tO",
        "outputId": "7f296015-bbed-44a9-f0f3-60738414ecad"
      },
      "source": [
        "fig, ax =plt.subplots(1, figsize=[20,10])\n",
        "sns.barplot(x='Gender', y='Died', hue='Allegiances', data=got_deaths)"
      ],
      "execution_count": 95,
      "outputs": [
        {
          "output_type": "execute_result",
          "data": {
            "text/plain": [
              "<matplotlib.axes._subplots.AxesSubplot at 0x7f1f9b905d50>"
            ]
          },
          "metadata": {
            "tags": []
          },
          "execution_count": 95
        },
        {
          "output_type": "display_data",
          "data": {
            "image/png": "[encoded data removed]",
            "text/plain": [
              "<Figure size 1440x720 with 1 Axes>"
            ]
          },
          "metadata": {
            "tags": [],
            "needs_background": "light"
          }
        }
      ]
    },
    {
      "cell_type": "markdown",
      "metadata": {
        "id": "M1Cu7Zyj9fDL"
      },
      "source": [
        "HUH! I didn't know that there was a \"House Stark\" AND also a \"Stark\" Allegiance. Let's combine them and get rid of formality."
      ]
    },
    {
      "cell_type": "code",
      "metadata": {
        "colab": {
          "base_uri": "https://localhost:8080/"
        },
        "id": "Rgif807P_ilh",
        "outputId": "a61b5b89-a21c-498a-d743-64eba51b3b85"
      },
      "source": [
        "for i in got_deaths['Allegiances'][:25]:\n",
        "  print (i)"
      ],
      "execution_count": 96,
      "outputs": [
        {
          "output_type": "stream",
          "text": [
            "Lannister\n",
            "None\n",
            "House Targaryen\n",
            "House Greyjoy\n",
            "Night's Watch\n",
            "None\n",
            "House Greyjoy\n",
            "Night's Watch\n",
            "House Greyjoy\n",
            "House Targaryen\n",
            "Night's Watch\n",
            "None\n",
            "Arryn\n",
            "Night's Watch\n",
            "House Stark\n",
            "House Tyrell\n",
            "Baratheon\n",
            "Baratheon\n",
            "None\n",
            "House Tyrell\n",
            "Baratheon\n",
            "Night's Watch\n",
            "House Stark\n",
            "Tyrell\n",
            "Lannister\n"
          ],
          "name": "stdout"
        }
      ]
    },
    {
      "cell_type": "code",
      "metadata": {
        "id": "cUSkGRFQxpNU"
      },
      "source": [
        "got_deaths['Allegiances'] = [allegiance[6:] if allegiance[:5] == 'House' else allegiance for allegiance in got_deaths['Allegiances']]\n"
      ],
      "execution_count": 97,
      "outputs": []
    },
    {
      "cell_type": "code",
      "metadata": {
        "colab": {
          "base_uri": "https://localhost:8080/"
        },
        "id": "16Q7NaG7zT3P",
        "outputId": "2ad17040-916a-4c1a-9cc1-4cde6d8d194e"
      },
      "source": [
        "for i in got_deaths['Allegiances'][:25]:\n",
        "  print (i)"
      ],
      "execution_count": 98,
      "outputs": [
        {
          "output_type": "stream",
          "text": [
            "Lannister\n",
            "None\n",
            "Targaryen\n",
            "Greyjoy\n",
            "Night's Watch\n",
            "None\n",
            "Greyjoy\n",
            "Night's Watch\n",
            "Greyjoy\n",
            "Targaryen\n",
            "Night's Watch\n",
            "None\n",
            "Arryn\n",
            "Night's Watch\n",
            "Stark\n",
            "Tyrell\n",
            "Baratheon\n",
            "Baratheon\n",
            "None\n",
            "Tyrell\n",
            "Baratheon\n",
            "Night's Watch\n",
            "Stark\n",
            "Tyrell\n",
            "Lannister\n"
          ],
          "name": "stdout"
        }
      ]
    },
    {
      "cell_type": "markdown",
      "metadata": {
        "id": "hRgxe623-CAe"
      },
      "source": [
        "But let's be honest, we just care about the important people (money, blood, superpowers, braveness, DRAGONS!)"
      ]
    },
    {
      "cell_type": "code",
      "metadata": {
        "id": "x9sJTusDzZMP"
      },
      "source": [
        "top_allegiances = ['Lannister', 'Targaryen', \"Night's Watch\", 'Stark', 'Baratheon', 'Greyjoy']"
      ],
      "execution_count": 99,
      "outputs": []
    },
    {
      "cell_type": "code",
      "metadata": {
        "id": "4nd92kAx0gbn"
      },
      "source": [
        "got_death_top = got_deaths.loc[got_deaths['Allegiances'].isin(top_allegiances)]"
      ],
      "execution_count": 100,
      "outputs": []
    },
    {
      "cell_type": "code",
      "metadata": {
        "colab": {
          "base_uri": "https://localhost:8080/",
          "height": 626
        },
        "id": "uup8HTmnF3d6",
        "outputId": "fb6114e3-ce4e-4625-845a-236c73236dac"
      },
      "source": [
        "fig, ax =plt.subplots(1, figsize=[20,10])\n",
        "sns.barplot(x='Allegiances', y='Died', data=got_death_top)"
      ],
      "execution_count": 102,
      "outputs": [
        {
          "output_type": "execute_result",
          "data": {
            "text/plain": [
              "<matplotlib.axes._subplots.AxesSubplot at 0x7f1f9cf51050>"
            ]
          },
          "metadata": {
            "tags": []
          },
          "execution_count": 102
        },
        {
          "output_type": "display_data",
          "data": {
            "image/png": "[encoded data removed]",
            "text/plain": [
              "<Figure size 1440x720 with 1 Axes>"
            ]
          },
          "metadata": {
            "tags": [],
            "needs_background": "light"
          }
        }
      ]
    },
    {
      "cell_type": "code",
      "metadata": {
        "colab": {
          "base_uri": "https://localhost:8080/",
          "height": 622
        },
        "id": "8zjqHWoc1Xcb",
        "outputId": "c19ef6a0-858c-464f-a2f3-9f9646826358"
      },
      "source": [
        "fig, ax =plt.subplots(1, figsize=[20,10])\n",
        "sns.barplot(x='Gender', y='Died', hue='Allegiances', data=got_death_top)"
      ],
      "execution_count": 101,
      "outputs": [
        {
          "output_type": "execute_result",
          "data": {
            "text/plain": [
              "<matplotlib.axes._subplots.AxesSubplot at 0x7f1f9becdf50>"
            ]
          },
          "metadata": {
            "tags": []
          },
          "execution_count": 101
        },
        {
          "output_type": "display_data",
          "data": {
            "image/png": "[encoded data removed]",
            "text/plain": [
              "<Figure size 1440x720 with 1 Axes>"
            ]
          },
          "metadata": {
            "tags": [],
            "needs_background": "light"
          }
        }
      ]
    },
    {
      "cell_type": "markdown",
      "metadata": {
        "id": "41KWXnKU-qg9"
      },
      "source": [
        "What do The Greyjoys and the Night's Watch have in common? What's going on with Lannister Women?"
      ]
    }
  ]
}